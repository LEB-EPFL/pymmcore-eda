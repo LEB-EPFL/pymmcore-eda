{
 "cells": [
  {
   "cell_type": "markdown",
   "metadata": {},
   "source": [
    "# Smart scanning\n",
    "This Jupyter is to simulate different operations of a smart scanner."
   ]
  },
  {
   "cell_type": "code",
   "execution_count": 1,
   "metadata": {},
   "outputs": [],
   "source": [
    "import numpy as np\n",
    "from matplotlib import pyplot as plt\n",
    "from smart_scan.helpers.function_helpers import mask2active_pixels, generate_mask, pixel2voltage, output_voltages\n",
    "import ipywidgets as widgets"
   ]
  },
  {
   "cell_type": "code",
   "execution_count": 2,
   "metadata": {},
   "outputs": [],
   "source": [
    "from PIL import Image\n",
    "im = Image.open('resources/mask.tif')\n",
    "\n",
    "imarray = np.array(im)"
   ]
  },
  {
   "cell_type": "code",
   "execution_count": 3,
   "metadata": {},
   "outputs": [],
   "source": [
    "# Pseudo-code\n",
    "\n",
    "# 1: define the image and mask sizes\n",
    "semidim_w = 1 # pixels\n",
    "semidim_h = 7 # pixels\n",
    "\n",
    "# 2: generate a binary mask to know where we want to scan\n",
    "# h = 100 # pixels\n",
    "# w = 100 # pixels\n",
    "#mask = generate_mask(h,w, semidim_h, semidim_w)\n",
    "\n",
    "# 2b load a mask\n",
    "mask = imarray\n",
    "h = mask.shape[0]\n",
    "w = mask.shape[1]\n",
    "\n",
    "# 3: convert the mask to active pixels, so be sent to the controller\n",
    "pixel_sequence = mask2active_pixels(mask)\n",
    "\n",
    "# 4: convert the pixels in voltages\n",
    "# Calibration parameters:\n",
    "a_w = 20\n",
    "a_h = 20\n",
    "m_w = 1\n",
    "m_h = 1\n",
    "\n",
    "voltage_sequence = pixel2voltage(pixel_sequence = pixel_sequence, m_w = m_w, m_h = m_h, a_w = a_w, a_h = a_h)\n"
   ]
  },
  {
   "cell_type": "code",
   "execution_count": 4,
   "metadata": {},
   "outputs": [
    {
     "data": {
      "text/plain": [
       "<matplotlib.image.AxesImage at 0x11578e240>"
      ]
     },
     "execution_count": 4,
     "metadata": {},
     "output_type": "execute_result"
    },
    {
     "data": {
      "image/png": "[encoded data removed]",
      "text/plain": [
       "<Figure size 640x480 with 1 Axes>"
      ]
     },
     "metadata": {},
     "output_type": "display_data"
    }
   ],
   "source": [
    "plt.imshow(mask)"
   ]
  },
  {
   "cell_type": "code",
   "execution_count": 5,
   "metadata": {},
   "outputs": [
    {
     "data": {
      "application/vnd.jupyter.widget-view+json": {
       "model_id": "634f41daa86b4310938fd1d6b9626818",
       "version_major": 2,
       "version_minor": 0
      },
      "text/plain": [
       "HBox(children=(VBox(children=(IntSlider(value=0, description='slice', max=397), Output())), Output()))"
      ]
     },
     "execution_count": 5,
     "metadata": {},
     "output_type": "execute_result"
    }
   ],
   "source": [
    "tmp_mask = np.zeros([h,w,len(pixel_sequence)])\n",
    "for idx, pixel in enumerate(pixel_sequence):\n",
    "    tmp_mask[pixel[0],pixel[1],idx] = 1\n",
    "    \n",
    "# Threshold and show the image\n",
    "slice = widgets.IntSlider(description='slice',min = 0, max = len(pixel_sequence)-1)\n",
    "\n",
    "def show_scan(slice):\n",
    "    data = tmp_mask[:,:,slice]\n",
    "    fig = plt.imshow(data)\n",
    "    fig.axes.get_xaxis().set_visible(False)\n",
    "    fig.axes.get_yaxis().set_visible(False)\n",
    "\n",
    "def show_voltage(slice):\n",
    "    print(f'Voltage_x: {voltage_sequence[slice][1]}')\n",
    "    print(f'Voltage_y: {voltage_sequence[slice][0]}')\n",
    "    \n",
    "\n",
    "    \n",
    "scan = widgets.interactive_output(show_scan, {'slice': slice})\n",
    "voltage = widgets.interactive_output(show_voltage, {'slice': slice})\n",
    "widgets.HBox([ widgets.VBox([slice, scan]), voltage ]) \n"
   ]
  },
  {
   "cell_type": "code",
   "execution_count": 6,
   "metadata": {},
   "outputs": [
    {
     "name": "stdout",
     "output_type": "stream",
     "text": [
      "Failed to open device\n",
      "b'No connected device found\\nFDwfDeviceOpenEx\\n'\n"
     ]
    },
    {
     "ename": "NameError",
     "evalue": "name 'quit' is not defined",
     "output_type": "error",
     "traceback": [
      "\u001b[0;31m---------------------------------------------------------------------------\u001b[0m",
      "\u001b[0;31mNameError\u001b[0m                                 Traceback (most recent call last)",
      "Cell \u001b[0;32mIn[6], line 17\u001b[0m\n\u001b[1;32m     14\u001b[0m data_y \u001b[38;5;241m=\u001b[39m data_y\u001b[38;5;241m/\u001b[39m\u001b[38;5;28mmax\u001b[39m(data_y)\u001b[38;5;241m*\u001b[39m\u001b[38;5;241m0.1\u001b[39m\n\u001b[1;32m     16\u001b[0m \u001b[38;5;66;03m# Drive the device\u001b[39;00m\n\u001b[0;32m---> 17\u001b[0m \u001b[43moutput_voltages\u001b[49m\u001b[43m(\u001b[49m\u001b[43mdata_x\u001b[49m\u001b[43m,\u001b[49m\u001b[43m \u001b[49m\u001b[43mdata_y\u001b[49m\u001b[43m,\u001b[49m\u001b[43m \u001b[49m\u001b[43mrate\u001b[49m\u001b[43m)\u001b[49m\n\u001b[1;32m     18\u001b[0m \u001b[38;5;66;03m# x = np.array([0])\u001b[39;00m\n\u001b[1;32m     19\u001b[0m \u001b[38;5;66;03m# y = np.array([0])\u001b[39;00m\n\u001b[1;32m     20\u001b[0m \u001b[38;5;66;03m# output_voltages(x,y, rate)\u001b[39;00m\n",
      "File \u001b[0;32m~/code/git_repos/pymmcore-eda/smart_scan/helpers/function_helpers.py:106\u001b[0m, in \u001b[0;36moutput_voltages\u001b[0;34m(data_x, data_y, rate)\u001b[0m\n\u001b[1;32m    104\u001b[0m     dwf\u001b[38;5;241m.\u001b[39mFDwfGetLastErrorMsg(szerr)\n\u001b[1;32m    105\u001b[0m     \u001b[38;5;28mprint\u001b[39m(\u001b[38;5;28mstr\u001b[39m(szerr\u001b[38;5;241m.\u001b[39mvalue))\n\u001b[0;32m--> 106\u001b[0m     \u001b[43mquit\u001b[49m()\n\u001b[1;32m    108\u001b[0m \u001b[38;5;66;03m# the device will only be configured when FDwf###Configure is called\u001b[39;00m\n\u001b[1;32m    109\u001b[0m dwf\u001b[38;5;241m.\u001b[39mFDwfDeviceAutoConfigureSet(hdwf, c_int(\u001b[38;5;241m0\u001b[39m))\n",
      "\u001b[0;31mNameError\u001b[0m: name 'quit' is not defined"
     ]
    }
   ],
   "source": [
    "duration = 1 #s?\n",
    "\n",
    "#calculated properties\n",
    "rate = 1/duration\n",
    "\n",
    "# AnalogOut expects double normalized to +/-1 value\n",
    "data_x = np.transpose(voltage_sequence)[0]\n",
    "data_x=(data_x-min(data_x))\n",
    "data_x = data_x/max(data_x)*0.1\n",
    "\n",
    "\n",
    "data_y = np.transpose(voltage_sequence)[1]\n",
    "data_y=(data_y-min(data_y))\n",
    "data_y = data_y/max(data_y)*0.1\n",
    "\n",
    "# Drive the device\n",
    "output_voltages(data_x, data_y, rate)\n",
    "# x = np.array([0])\n",
    "# y = np.array([0])\n",
    "# output_voltages(x,y, rate)\n"
   ]
  },
  {
   "cell_type": "markdown",
   "metadata": {},
   "source": [
    "### Let's try to do the same, but using the new class structure"
   ]
  },
  {
   "cell_type": "code",
   "execution_count": 9,
   "metadata": {},
   "outputs": [],
   "source": [
    "from smart_scan.devices import Galvo_Scanners\n",
    "gs = Galvo_Scanners()"
   ]
  },
  {
   "cell_type": "code",
   "execution_count": 10,
   "metadata": {},
   "outputs": [],
   "source": [
    "gs.connect()\n"
   ]
  },
  {
   "cell_type": "code",
   "execution_count": 11,
   "metadata": {},
   "outputs": [],
   "source": [
    "gs.scan(data_x, data_y, rate)"
   ]
  },
  {
   "cell_type": "code",
   "execution_count": 13,
   "metadata": {},
   "outputs": [],
   "source": [
    "gs.disconnect()"
   ]
  },
  {
   "cell_type": "code",
   "execution_count": null,
   "metadata": {},
   "outputs": [],
   "source": []
  }
 ],
 "metadata": {
  "kernelspec": {
   "display_name": ".venv",
   "language": "python",
   "name": "python3"
  },
  "language_info": {
   "codemirror_mode": {
    "name": "ipython",
    "version": 3
   },
   "file_extension": ".py",
   "mimetype": "text/x-python",
   "name": "python",
   "nbconvert_exporter": "python",
   "pygments_lexer": "ipython3",
   "version": "3.12.7"
  }
 },
 "nbformat": 4,
 "nbformat_minor": 2
}
