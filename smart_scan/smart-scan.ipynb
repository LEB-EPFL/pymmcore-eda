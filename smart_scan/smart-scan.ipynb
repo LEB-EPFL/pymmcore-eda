{
 "cells": [
  {
   "cell_type": "markdown",
   "metadata": {},
   "source": [
    "# Smart scanning\n",
    "This Jupyter is to simulate different operations of a smart scanner."
   ]
  },
  {
   "cell_type": "code",
   "execution_count": 4,
   "metadata": {},
   "outputs": [],
   "source": [
    "import numpy as np\n",
    "from matplotlib import pyplot as plt\n",
    "from smart_scan.helpers.function_helpers import mask2active_pixels, generate_mask, pixels2voltages, output_voltages, output_voltage_triggered, ScanningStragies\n",
    "import ipywidgets as widgets"
   ]
  },
  {
   "cell_type": "code",
   "execution_count": 5,
   "metadata": {},
   "outputs": [],
   "source": [
    "from PIL import Image\n",
    "im = Image.open('resources/Test-1.tif')\n",
    "\n",
    "imarray = np.array(im)"
   ]
  },
  {
   "cell_type": "code",
   "execution_count": 6,
   "metadata": {},
   "outputs": [],
   "source": [
    "# Pseudo-code\n",
    "\n",
    "# 1: define the image and mask sizes\n",
    "semidim_w = 1 # pixels\n",
    "semidim_h = 7 # pixels\n",
    "\n",
    "# 2a: generate a binary mask to know where we want to scan\n",
    "# h = 100 # pixels\n",
    "# w = 100 # pixels\n",
    "#mask = generate_mask(h,w, semidim_h, semidim_w)\n",
    "\n",
    "# 2b load a mask\n",
    "mask = imarray\n",
    "h = mask.shape[0]\n",
    "w = mask.shape[1]\n",
    "\n",
    "# 3: convert the mask to active pixels, so be sent to the controller\n",
    "pixel_sequence = mask2active_pixels(mask, scan_strategy=ScanningStragies.SNAKE)\n",
    "\n",
    "# 4: convert the pixels in voltages\n",
    "# Calibration parameters:\n",
    "a_w = 20\n",
    "a_h = 20\n",
    "m_w = 1\n",
    "m_h = 1\n",
    "\n",
    "voltage_sequence = pixels2voltages(pixel_sequence = pixel_sequence, m_w = m_w, m_h = m_h, a_w = a_w, a_h = a_h)\n"
   ]
  },
  {
   "cell_type": "code",
   "execution_count": 7,
   "metadata": {},
   "outputs": [
    {
     "data": {
      "text/plain": [
       "<matplotlib.image.AxesImage at 0x10d1644d0>"
      ]
     },
     "execution_count": 7,
     "metadata": {},
     "output_type": "execute_result"
    },
    {
     "data": {
      "image/png": "[encoded data removed]",
      "text/plain": [
       "<Figure size 640x480 with 1 Axes>"
      ]
     },
     "metadata": {},
     "output_type": "display_data"
    }
   ],
   "source": [
    "plt.imshow(mask)"
   ]
  },
  {
   "cell_type": "code",
   "execution_count": 8,
   "metadata": {},
   "outputs": [
    {
     "data": {
      "application/vnd.jupyter.widget-view+json": {
       "model_id": "b53dab4651404dd79a77f8bda47fc43d",
       "version_major": 2,
       "version_minor": 0
      },
      "text/plain": [
       "HBox(children=(VBox(children=(IntSlider(value=0, description='slice', max=2225), Output())), Output()))"
      ]
     },
     "execution_count": 8,
     "metadata": {},
     "output_type": "execute_result"
    }
   ],
   "source": [
    "tmp_mask = np.zeros([h,w,len(pixel_sequence)])\n",
    "for idx, pixel in enumerate(pixel_sequence):\n",
    "    tmp_mask[pixel[0],pixel[1],idx] = 1\n",
    "    \n",
    "# Threshold and show the image\n",
    "slice = widgets.IntSlider(description='slice',min = 0, max = len(pixel_sequence)-1)\n",
    "\n",
    "def show_scan(slice):\n",
    "    data = tmp_mask[:,:,slice]\n",
    "    fig = plt.imshow(data)\n",
    "    fig.axes.get_xaxis().set_visible(False)\n",
    "    fig.axes.get_yaxis().set_visible(False)\n",
    "\n",
    "def show_voltage(slice):\n",
    "    print(f'Voltage_x: {voltage_sequence[slice][1]}')\n",
    "    print(f'Voltage_y: {voltage_sequence[slice][0]}')\n",
    "    \n",
    "\n",
    "    \n",
    "scan = widgets.interactive_output(show_scan, {'slice': slice})\n",
    "voltage = widgets.interactive_output(show_voltage, {'slice': slice})\n",
    "widgets.HBox([ widgets.VBox([slice, scan]), voltage ]) \n"
   ]
  },
  {
   "cell_type": "code",
   "execution_count": null,
   "metadata": {},
   "outputs": [],
   "source": [
    "#calculated properties\n",
    "\n",
    "# AnalogOut expects double normalized to +/-1 value\n",
    "data_x = np.transpose(voltage_sequence)[0]\n",
    "data_x=(data_x-min(data_x))\n",
    "data_x = data_x/max(data_x)\n",
    "\n",
    "\n",
    "data_y = np.transpose(voltage_sequence)[1]\n",
    "data_y=(data_y-min(data_y))\n",
    "data_y = data_y/max(data_y)\n",
    "\n",
    "n_samples = len(data_x)\n",
    "\n",
    "# The duration of the whole scan\n",
    "duration = 10e-3 # s\n",
    "\n",
    "dwell_time = duration / n_samples\n",
    "\n",
    "rate = n_samples/duration # Hz"
   ]
  },
  {
   "cell_type": "code",
   "execution_count": null,
   "metadata": {},
   "outputs": [],
   "source": [
    "# Drive the device\n",
    "output_voltages(data_x, data_y, rate)"
   ]
  },
  {
   "cell_type": "markdown",
   "metadata": {},
   "source": [
    "### Let's try to do the same, but using the new class structure"
   ]
  },
  {
   "cell_type": "code",
   "execution_count": 9,
   "metadata": {},
   "outputs": [],
   "source": [
    "from smart_scan.devices import Galvo_Scanners\n",
    "gs = Galvo_Scanners()"
   ]
  },
  {
   "cell_type": "code",
   "execution_count": 10,
   "metadata": {},
   "outputs": [
    {
     "name": "stdout",
     "output_type": "stream",
     "text": [
      "Galvo mirrors failed to connect\n"
     ]
    }
   ],
   "source": [
    "gs.connect()"
   ]
  },
  {
   "cell_type": "code",
   "execution_count": 11,
   "metadata": {},
   "outputs": [],
   "source": [
    "gs.scan(data_x, data_y, rate)"
   ]
  },
  {
   "cell_type": "code",
   "execution_count": 13,
   "metadata": {},
   "outputs": [],
   "source": [
    "gs.disconnect()"
   ]
  },
  {
   "cell_type": "markdown",
   "metadata": {},
   "source": [
    "Next, implement the scanning function that would scan only after the camera trigger"
   ]
  }
 ],
 "metadata": {
  "kernelspec": {
   "display_name": ".venv",
   "language": "python",
   "name": "python3"
  },
  "language_info": {
   "codemirror_mode": {
    "name": "ipython",
    "version": 3
   },
   "file_extension": ".py",
   "mimetype": "text/x-python",
   "name": "python",
   "nbconvert_exporter": "python",
   "pygments_lexer": "ipython3",
   "version": "3.12.7"
  }
 },
 "nbformat": 4,
 "nbformat_minor": 2
}
